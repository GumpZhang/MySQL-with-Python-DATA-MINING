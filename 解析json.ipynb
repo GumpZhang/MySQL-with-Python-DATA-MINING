{
 "cells": [
  {
   "cell_type": "code",
   "execution_count": 1,
   "metadata": {
    "ExecuteTime": {
     "end_time": "2020-02-01T14:48:17.269450Z",
     "start_time": "2020-02-01T14:48:16.672989Z"
    }
   },
   "outputs": [],
   "source": [
    "import json\n",
    "import time\n",
    "import requests\n",
    "import json\n",
    "import os\n",
    "import pandas as pd\n",
    "import warnings\n",
    "import  arrow\n",
    "from sqlalchemy import create_engine\n",
    "import sys\n",
    "from sqlalchemy import text\n",
    "if sys.version_info.major<3:\n",
    "    reload(sys)\n",
    "    sys.setdefaultencoding(\"utf-8\")\n",
    "warnings.filterwarnings(\"ignore\")\n",
    "\n",
    "def update_china_data(unit=3600 * 2):\n",
    "    # 中国各省数据\n",
    "    baseUrl = \"https://lab.ahusmart.com/nCoV/api/\"\n",
    "    url = baseUrl + 'area?latest=1'\n",
    "    data = json.loads(requests.get(url).text)\n",
    "    p_data = {}\n",
    "    for r in data['results']:\n",
    "        # 去除别的国家数据\n",
    "        if r.get(\"provinceShortName\") == None or r.get(\"country\") != \"中国\":\n",
    "            pass\n",
    "        else:\n",
    "            p_data[r[\"provinceShortName\"]] = r[\"confirmedCount\"]\n",
    "    # 先对字典进行排序,按照value从大到小\n",
    "    p_data = sorted(p_data.items(), key=lambda x: x[1], reverse=True)\n",
    "    return p_data\n",
    "def update_province_data(province):\n",
    "    baseUrl = \"https://lab.ahusmart.com/nCoV/api/\"\n",
    "    url = baseUrl + 'area?latest=1&province=' + province\n",
    "    province_data = json.loads(requests.get(url).text)\n",
    "    province_data['time'] = time.strftime(\n",
    "        \"%m-%d %H:%M\", time.localtime(time.time()))\n",
    "    # 取最新一条统计数据\n",
    "    latest_data = province_data[\"results\"][0]\n",
    "    cities_data = []\n",
    "    for c in latest_data[\"cities\"]:\n",
    "        city_data = []\n",
    "        city_data.append(province)\n",
    "        # 先在修正表中找\n",
    "        '''\n",
    "        if province_city_fixed[province][c[\"cityName\"]]!=None:\n",
    "            city_data.append(province_city_fixed[province][c[\"cityName\"]])\n",
    "        # 没有则延用原始名称\n",
    "        else:\n",
    "            city_data.append(c[\"cityName\"])'\n",
    "        '''\n",
    "        try:\n",
    "            city_data.append(province_city_fixed[province][c[\"cityName\"]])\n",
    "        except:\n",
    "            city_data.append(c[\"cityName\"])\n",
    "        else:\n",
    "            pass\n",
    "        city_data.append(c[\"confirmedCount\"])\n",
    "        cities_data.append(city_data)\n",
    "    return cities_data"
   ]
  },
  {
   "cell_type": "code",
   "execution_count": 4,
   "metadata": {
    "ExecuteTime": {
     "end_time": "2020-02-01T14:49:33.295546Z",
     "start_time": "2020-02-01T14:49:32.183520Z"
    }
   },
   "outputs": [
    {
     "data": {
      "text/plain": [
       "'{\"results\":[{\"country\":\"中国\",\"provinceName\":\"湖北省\",\"provinceShortName\":\"湖北\",\"confirmedCount\":7153,\"suspectedCount\":0,\"curedCount\":168,\"deadCount\":249,\"cities\":[{\"cityName\":\"武汉\",\"confirmedCount\":3215,\"curedCount\":106,\"deadCount\":192,\"locationId\":420100,\"suspectedCount\":0},{\"cityName\":\"黄冈\",\"confirmedCount\":726,\"curedCount\":17,\"deadCount\":14,\"locationId\":421100,\"suspectedCount\":0},{\"cityName\":\"孝感\",\"confirmedCount\":628,\"curedCount\":2,\"deadCount\":12,\"locationId\":420900,\"suspectedCount\":0},{\"cityName\":\"襄阳\",\"confirmedCount\":347,\"curedCount\":0,\"deadCount\":0,\"locationId\":420600,\"suspectedCount\":0},{\"cityName\":\"随州\",\"confirmedCount\":304,\"curedCount\":0,\"deadCount\":1,\"locationId\":421300,\"suspectedCount\":0},{\"cityName\":\"荆州\",\"confirmedCount\":287,\"curedCount\":2,\"deadCount\":4,\"locationId\":421000,\"suspectedCount\":0},{\"cityName\":\"宜昌\",\"confirmedCount\":276,\"curedCount\":0,\"deadCount\":1,\"locationId\":420500,\"suspectedCount\":0},{\"cityName\":\"荆门\",\"confirmedCount\":251,\"curedCount\":1,\"deadCount\":5,\"locationId\":420800,\"suspectedCount\":0},{\"cityName\":\"鄂州\",\"confirmedCount\":227,\"curedCount\":0,\"deadCount\":9,\"locationId\":420700,\"suspectedCount\":0},{\"cityName\":\"黄石\",\"confirmedCount\":209,\"curedCount\":1,\"deadCount\":2,\"locationId\":420200,\"suspectedCount\":0},{\"cityName\":\"咸宁\",\"confirmedCount\":206,\"curedCount\":1,\"deadCount\":0,\"locationId\":421200,\"suspectedCount\":0},{\"cityName\":\"十堰\",\"confirmedCount\":177,\"curedCount\":0,\"deadCount\":0,\"locationId\":420300,\"suspectedCount\":0},{\"cityName\":\"仙桃\",\"confirmedCount\":97,\"curedCount\":0,\"deadCount\":1,\"locationId\":429004,\"suspectedCount\":0},{\"cityName\":\"恩施州\",\"confirmedCount\":87,\"curedCount\":1,\"deadCount\":0,\"locationId\":422800,\"suspectedCount\":0},{\"cityName\":\"天门\",\"confirmedCount\":82,\"curedCount\":0,\"deadCount\":7,\"locationId\":429006,\"suspectedCount\":0},{\"cityName\":\"潜江\",\"confirmedCount\":27,\"curedCount\":0,\"deadCount\":1,\"locationId\":429005,\"suspectedCount\":0},{\"cityName\":\"神农架林区\",\"confirmedCount\":7,\"curedCount\":2,\"deadCount\":0,\"locationId\":429021,\"suspectedCount\":0}],\"comment\":\"待明确地区：治愈35\",\"updateTime\":1580557802226,\"createTime\":0,\"modifyTime\":0}],\"success\":true}\\n'"
      ]
     },
     "execution_count": 4,
     "metadata": {},
     "output_type": "execute_result"
    }
   ],
   "source": [
    "baseUrl = \"https://lab.ahusmart.com/nCoV/api/\"\n",
    "url = baseUrl + 'area?latest=1&province=' + '湖北省'\n",
    "requests.get(url).text"
   ]
  },
  {
   "cell_type": "code",
   "execution_count": 5,
   "metadata": {
    "ExecuteTime": {
     "end_time": "2020-02-01T14:52:01.048454Z",
     "start_time": "2020-02-01T14:52:00.736290Z"
    }
   },
   "outputs": [
    {
     "data": {
      "text/plain": [
       "<Response [200]>"
      ]
     },
     "execution_count": 5,
     "metadata": {},
     "output_type": "execute_result"
    }
   ],
   "source": [
    "requests.get(url)"
   ]
  },
  {
   "cell_type": "code",
   "execution_count": 17,
   "metadata": {
    "ExecuteTime": {
     "end_time": "2020-02-01T15:03:25.270835Z",
     "start_time": "2020-02-01T15:03:24.938460Z"
    },
    "scrolled": false
   },
   "outputs": [
    {
     "name": "stdout",
     "output_type": "stream",
     "text": [
      "<class 'dict'>\n"
     ]
    }
   ],
   "source": [
    "res = json.loads(requests.get(url).text)\n",
    "print(type(res))"
   ]
  },
  {
   "cell_type": "code",
   "execution_count": 27,
   "metadata": {
    "ExecuteTime": {
     "end_time": "2020-02-01T15:07:30.153814Z",
     "start_time": "2020-02-01T15:07:30.136825Z"
    }
   },
   "outputs": [
    {
     "name": "stdout",
     "output_type": "stream",
     "text": [
      "键: results\n",
      "--------\n",
      "值: [{'country': '中国', 'provinceName': '湖北省', 'provinceShortName': '湖北', 'confirmedCount': 7153, 'suspectedCount': 0, 'curedCount': 168, 'deadCount': 249, 'cities': [{'cityName': '武汉', 'confirmedCount': 3215, 'curedCount': 106, 'deadCount': 192, 'locationId': 420100, 'suspectedCount': 0}, {'cityName': '黄冈', 'confirmedCount': 726, 'curedCount': 17, 'deadCount': 14, 'locationId': 421100, 'suspectedCount': 0}, {'cityName': '孝感', 'confirmedCount': 628, 'curedCount': 2, 'deadCount': 12, 'locationId': 420900, 'suspectedCount': 0}, {'cityName': '襄阳', 'confirmedCount': 347, 'curedCount': 0, 'deadCount': 0, 'locationId': 420600, 'suspectedCount': 0}, {'cityName': '随州', 'confirmedCount': 304, 'curedCount': 0, 'deadCount': 1, 'locationId': 421300, 'suspectedCount': 0}, {'cityName': '荆州', 'confirmedCount': 287, 'curedCount': 2, 'deadCount': 4, 'locationId': 421000, 'suspectedCount': 0}, {'cityName': '宜昌', 'confirmedCount': 276, 'curedCount': 0, 'deadCount': 1, 'locationId': 420500, 'suspectedCount': 0}, {'cityName': '荆门', 'confirmedCount': 251, 'curedCount': 1, 'deadCount': 5, 'locationId': 420800, 'suspectedCount': 0}, {'cityName': '鄂州', 'confirmedCount': 227, 'curedCount': 0, 'deadCount': 9, 'locationId': 420700, 'suspectedCount': 0}, {'cityName': '黄石', 'confirmedCount': 209, 'curedCount': 1, 'deadCount': 2, 'locationId': 420200, 'suspectedCount': 0}, {'cityName': '咸宁', 'confirmedCount': 206, 'curedCount': 1, 'deadCount': 0, 'locationId': 421200, 'suspectedCount': 0}, {'cityName': '十堰', 'confirmedCount': 177, 'curedCount': 0, 'deadCount': 0, 'locationId': 420300, 'suspectedCount': 0}, {'cityName': '仙桃', 'confirmedCount': 97, 'curedCount': 0, 'deadCount': 1, 'locationId': 429004, 'suspectedCount': 0}, {'cityName': '恩施州', 'confirmedCount': 87, 'curedCount': 1, 'deadCount': 0, 'locationId': 422800, 'suspectedCount': 0}, {'cityName': '天门', 'confirmedCount': 82, 'curedCount': 0, 'deadCount': 7, 'locationId': 429006, 'suspectedCount': 0}, {'cityName': '潜江', 'confirmedCount': 27, 'curedCount': 0, 'deadCount': 1, 'locationId': 429005, 'suspectedCount': 0}, {'cityName': '神农架林区', 'confirmedCount': 7, 'curedCount': 2, 'deadCount': 0, 'locationId': 429021, 'suspectedCount': 0}], 'comment': '待明确地区：治愈35', 'updateTime': 1580557802226, 'createTime': 0, 'modifyTime': 0}]\n",
      "键: success\n",
      "--------\n",
      "值: True\n"
     ]
    }
   ],
   "source": [
    "for key,value in res.items():\n",
    "    print(\"键:\" , key)\n",
    "    print(\"--------\" )\n",
    "    print(\"值:\" , value)"
   ]
  },
  {
   "cell_type": "code",
   "execution_count": 33,
   "metadata": {
    "ExecuteTime": {
     "end_time": "2020-02-01T15:09:09.002547Z",
     "start_time": "2020-02-01T15:09:08.992577Z"
    }
   },
   "outputs": [
    {
     "name": "stdout",
     "output_type": "stream",
     "text": [
      "[{'country': '中国', 'provinceName': '湖北省', 'provinceShortName': '湖北', 'confirmedCount': 7153, 'suspectedCount': 0, 'curedCount': 168, 'deadCount': 249, 'cities': [{'cityName': '武汉', 'confirmedCount': 3215, 'curedCount': 106, 'deadCount': 192, 'locationId': 420100, 'suspectedCount': 0}, {'cityName': '黄冈', 'confirmedCount': 726, 'curedCount': 17, 'deadCount': 14, 'locationId': 421100, 'suspectedCount': 0}, {'cityName': '孝感', 'confirmedCount': 628, 'curedCount': 2, 'deadCount': 12, 'locationId': 420900, 'suspectedCount': 0}, {'cityName': '襄阳', 'confirmedCount': 347, 'curedCount': 0, 'deadCount': 0, 'locationId': 420600, 'suspectedCount': 0}, {'cityName': '随州', 'confirmedCount': 304, 'curedCount': 0, 'deadCount': 1, 'locationId': 421300, 'suspectedCount': 0}, {'cityName': '荆州', 'confirmedCount': 287, 'curedCount': 2, 'deadCount': 4, 'locationId': 421000, 'suspectedCount': 0}, {'cityName': '宜昌', 'confirmedCount': 276, 'curedCount': 0, 'deadCount': 1, 'locationId': 420500, 'suspectedCount': 0}, {'cityName': '荆门', 'confirmedCount': 251, 'curedCount': 1, 'deadCount': 5, 'locationId': 420800, 'suspectedCount': 0}, {'cityName': '鄂州', 'confirmedCount': 227, 'curedCount': 0, 'deadCount': 9, 'locationId': 420700, 'suspectedCount': 0}, {'cityName': '黄石', 'confirmedCount': 209, 'curedCount': 1, 'deadCount': 2, 'locationId': 420200, 'suspectedCount': 0}, {'cityName': '咸宁', 'confirmedCount': 206, 'curedCount': 1, 'deadCount': 0, 'locationId': 421200, 'suspectedCount': 0}, {'cityName': '十堰', 'confirmedCount': 177, 'curedCount': 0, 'deadCount': 0, 'locationId': 420300, 'suspectedCount': 0}, {'cityName': '仙桃', 'confirmedCount': 97, 'curedCount': 0, 'deadCount': 1, 'locationId': 429004, 'suspectedCount': 0}, {'cityName': '恩施州', 'confirmedCount': 87, 'curedCount': 1, 'deadCount': 0, 'locationId': 422800, 'suspectedCount': 0}, {'cityName': '天门', 'confirmedCount': 82, 'curedCount': 0, 'deadCount': 7, 'locationId': 429006, 'suspectedCount': 0}, {'cityName': '潜江', 'confirmedCount': 27, 'curedCount': 0, 'deadCount': 1, 'locationId': 429005, 'suspectedCount': 0}, {'cityName': '神农架林区', 'confirmedCount': 7, 'curedCount': 2, 'deadCount': 0, 'locationId': 429021, 'suspectedCount': 0}], 'comment': '待明确地区：治愈35', 'updateTime': 1580557802226, 'createTime': 0, 'modifyTime': 0}]\n"
     ]
    }
   ],
   "source": [
    "print(res['results'])\n"
   ]
  },
  {
   "cell_type": "code",
   "execution_count": 34,
   "metadata": {
    "ExecuteTime": {
     "end_time": "2020-02-01T15:09:16.990154Z",
     "start_time": "2020-02-01T15:09:16.966219Z"
    }
   },
   "outputs": [
    {
     "name": "stdout",
     "output_type": "stream",
     "text": [
      "<class 'list'>\n"
     ]
    }
   ],
   "source": [
    "print(type(res['results']))"
   ]
  },
  {
   "cell_type": "code",
   "execution_count": 38,
   "metadata": {
    "ExecuteTime": {
     "end_time": "2020-02-01T15:15:44.971072Z",
     "start_time": "2020-02-01T15:15:44.961137Z"
    }
   },
   "outputs": [
    {
     "data": {
      "text/plain": [
       "1"
      ]
     },
     "execution_count": 38,
     "metadata": {},
     "output_type": "execute_result"
    }
   ],
   "source": [
    "len(res['results'])"
   ]
  },
  {
   "cell_type": "code",
   "execution_count": 40,
   "metadata": {
    "ExecuteTime": {
     "end_time": "2020-02-01T15:17:49.870172Z",
     "start_time": "2020-02-01T15:17:49.862238Z"
    }
   },
   "outputs": [
    {
     "data": {
      "text/plain": [
       "dict"
      ]
     },
     "execution_count": 40,
     "metadata": {},
     "output_type": "execute_result"
    }
   ],
   "source": [
    "type(res['results'][0])"
   ]
  },
  {
   "cell_type": "code",
   "execution_count": 41,
   "metadata": {
    "ExecuteTime": {
     "end_time": "2020-02-01T15:18:46.081346Z",
     "start_time": "2020-02-01T15:18:46.065391Z"
    }
   },
   "outputs": [
    {
     "name": "stdout",
     "output_type": "stream",
     "text": [
      "{'country': '中国', 'provinceName': '湖北省', 'provinceShortName': '湖北', 'confirmedCount': 7153, 'suspectedCount': 0, 'curedCount': 168, 'deadCount': 249, 'cities': [{'cityName': '武汉', 'confirmedCount': 3215, 'curedCount': 106, 'deadCount': 192, 'locationId': 420100, 'suspectedCount': 0}, {'cityName': '黄冈', 'confirmedCount': 726, 'curedCount': 17, 'deadCount': 14, 'locationId': 421100, 'suspectedCount': 0}, {'cityName': '孝感', 'confirmedCount': 628, 'curedCount': 2, 'deadCount': 12, 'locationId': 420900, 'suspectedCount': 0}, {'cityName': '襄阳', 'confirmedCount': 347, 'curedCount': 0, 'deadCount': 0, 'locationId': 420600, 'suspectedCount': 0}, {'cityName': '随州', 'confirmedCount': 304, 'curedCount': 0, 'deadCount': 1, 'locationId': 421300, 'suspectedCount': 0}, {'cityName': '荆州', 'confirmedCount': 287, 'curedCount': 2, 'deadCount': 4, 'locationId': 421000, 'suspectedCount': 0}, {'cityName': '宜昌', 'confirmedCount': 276, 'curedCount': 0, 'deadCount': 1, 'locationId': 420500, 'suspectedCount': 0}, {'cityName': '荆门', 'confirmedCount': 251, 'curedCount': 1, 'deadCount': 5, 'locationId': 420800, 'suspectedCount': 0}, {'cityName': '鄂州', 'confirmedCount': 227, 'curedCount': 0, 'deadCount': 9, 'locationId': 420700, 'suspectedCount': 0}, {'cityName': '黄石', 'confirmedCount': 209, 'curedCount': 1, 'deadCount': 2, 'locationId': 420200, 'suspectedCount': 0}, {'cityName': '咸宁', 'confirmedCount': 206, 'curedCount': 1, 'deadCount': 0, 'locationId': 421200, 'suspectedCount': 0}, {'cityName': '十堰', 'confirmedCount': 177, 'curedCount': 0, 'deadCount': 0, 'locationId': 420300, 'suspectedCount': 0}, {'cityName': '仙桃', 'confirmedCount': 97, 'curedCount': 0, 'deadCount': 1, 'locationId': 429004, 'suspectedCount': 0}, {'cityName': '恩施州', 'confirmedCount': 87, 'curedCount': 1, 'deadCount': 0, 'locationId': 422800, 'suspectedCount': 0}, {'cityName': '天门', 'confirmedCount': 82, 'curedCount': 0, 'deadCount': 7, 'locationId': 429006, 'suspectedCount': 0}, {'cityName': '潜江', 'confirmedCount': 27, 'curedCount': 0, 'deadCount': 1, 'locationId': 429005, 'suspectedCount': 0}, {'cityName': '神农架林区', 'confirmedCount': 7, 'curedCount': 2, 'deadCount': 0, 'locationId': 429021, 'suspectedCount': 0}], 'comment': '待明确地区：治愈35', 'updateTime': 1580557802226, 'createTime': 0, 'modifyTime': 0}\n"
     ]
    }
   ],
   "source": [
    "print(res['results'][0])"
   ]
  },
  {
   "cell_type": "code",
   "execution_count": 44,
   "metadata": {
    "ExecuteTime": {
     "end_time": "2020-02-01T15:21:11.305697Z",
     "start_time": "2020-02-01T15:21:11.287743Z"
    }
   },
   "outputs": [
    {
     "name": "stdout",
     "output_type": "stream",
     "text": [
      "键: country\n",
      "值: 中国\n",
      "键: provinceName\n",
      "值: 湖北省\n",
      "键: provinceShortName\n",
      "值: 湖北\n",
      "键: confirmedCount\n",
      "值: 7153\n",
      "键: suspectedCount\n",
      "值: 0\n",
      "键: curedCount\n",
      "值: 168\n",
      "键: deadCount\n",
      "值: 249\n",
      "键: cities\n",
      "值: [{'cityName': '武汉', 'confirmedCount': 3215, 'curedCount': 106, 'deadCount': 192, 'locationId': 420100, 'suspectedCount': 0}, {'cityName': '黄冈', 'confirmedCount': 726, 'curedCount': 17, 'deadCount': 14, 'locationId': 421100, 'suspectedCount': 0}, {'cityName': '孝感', 'confirmedCount': 628, 'curedCount': 2, 'deadCount': 12, 'locationId': 420900, 'suspectedCount': 0}, {'cityName': '襄阳', 'confirmedCount': 347, 'curedCount': 0, 'deadCount': 0, 'locationId': 420600, 'suspectedCount': 0}, {'cityName': '随州', 'confirmedCount': 304, 'curedCount': 0, 'deadCount': 1, 'locationId': 421300, 'suspectedCount': 0}, {'cityName': '荆州', 'confirmedCount': 287, 'curedCount': 2, 'deadCount': 4, 'locationId': 421000, 'suspectedCount': 0}, {'cityName': '宜昌', 'confirmedCount': 276, 'curedCount': 0, 'deadCount': 1, 'locationId': 420500, 'suspectedCount': 0}, {'cityName': '荆门', 'confirmedCount': 251, 'curedCount': 1, 'deadCount': 5, 'locationId': 420800, 'suspectedCount': 0}, {'cityName': '鄂州', 'confirmedCount': 227, 'curedCount': 0, 'deadCount': 9, 'locationId': 420700, 'suspectedCount': 0}, {'cityName': '黄石', 'confirmedCount': 209, 'curedCount': 1, 'deadCount': 2, 'locationId': 420200, 'suspectedCount': 0}, {'cityName': '咸宁', 'confirmedCount': 206, 'curedCount': 1, 'deadCount': 0, 'locationId': 421200, 'suspectedCount': 0}, {'cityName': '十堰', 'confirmedCount': 177, 'curedCount': 0, 'deadCount': 0, 'locationId': 420300, 'suspectedCount': 0}, {'cityName': '仙桃', 'confirmedCount': 97, 'curedCount': 0, 'deadCount': 1, 'locationId': 429004, 'suspectedCount': 0}, {'cityName': '恩施州', 'confirmedCount': 87, 'curedCount': 1, 'deadCount': 0, 'locationId': 422800, 'suspectedCount': 0}, {'cityName': '天门', 'confirmedCount': 82, 'curedCount': 0, 'deadCount': 7, 'locationId': 429006, 'suspectedCount': 0}, {'cityName': '潜江', 'confirmedCount': 27, 'curedCount': 0, 'deadCount': 1, 'locationId': 429005, 'suspectedCount': 0}, {'cityName': '神农架林区', 'confirmedCount': 7, 'curedCount': 2, 'deadCount': 0, 'locationId': 429021, 'suspectedCount': 0}]\n",
      "键: comment\n",
      "值: 待明确地区：治愈35\n",
      "键: updateTime\n",
      "值: 1580557802226\n",
      "键: createTime\n",
      "值: 0\n",
      "键: modifyTime\n",
      "值: 0\n"
     ]
    }
   ],
   "source": [
    "dd = res['results'][0]\n",
    "for key,value in dd.items():\n",
    "    print(\"键:\" , key)\n",
    "    #print(\"--------\" )\n",
    "    print(\"值:\" , value)"
   ]
  },
  {
   "cell_type": "code",
   "execution_count": 49,
   "metadata": {
    "ExecuteTime": {
     "end_time": "2020-02-01T15:28:14.310524Z",
     "start_time": "2020-02-01T15:28:14.296561Z"
    }
   },
   "outputs": [
    {
     "name": "stdout",
     "output_type": "stream",
     "text": [
      "<class 'list'>\n",
      "17\n"
     ]
    }
   ],
   "source": [
    "info_cities = dd['cities']\n",
    "print(type(info_cities))\n",
    "print(len(info_cities))"
   ]
  },
  {
   "cell_type": "code",
   "execution_count": 50,
   "metadata": {
    "ExecuteTime": {
     "end_time": "2020-02-01T15:28:43.529780Z",
     "start_time": "2020-02-01T15:28:43.518852Z"
    }
   },
   "outputs": [
    {
     "data": {
      "text/plain": [
       "{'cityName': '随州',\n",
       " 'confirmedCount': 304,\n",
       " 'curedCount': 0,\n",
       " 'deadCount': 1,\n",
       " 'locationId': 421300,\n",
       " 'suspectedCount': 0}"
      ]
     },
     "execution_count": 50,
     "metadata": {},
     "output_type": "execute_result"
    }
   ],
   "source": [
    "info_cities[4]"
   ]
  },
  {
   "cell_type": "code",
   "execution_count": 51,
   "metadata": {
    "ExecuteTime": {
     "end_time": "2020-02-01T15:29:11.980194Z",
     "start_time": "2020-02-01T15:29:11.957255Z"
    }
   },
   "outputs": [
    {
     "data": {
      "text/plain": [
       "'随州'"
      ]
     },
     "execution_count": 51,
     "metadata": {},
     "output_type": "execute_result"
    }
   ],
   "source": [
    "info_cities[4]['cityName']"
   ]
  },
  {
   "cell_type": "code",
   "execution_count": 52,
   "metadata": {
    "ExecuteTime": {
     "end_time": "2020-02-01T15:29:57.147560Z",
     "start_time": "2020-02-01T15:29:57.135593Z"
    }
   },
   "outputs": [
    {
     "data": {
      "text/plain": [
       "304"
      ]
     },
     "execution_count": 52,
     "metadata": {},
     "output_type": "execute_result"
    }
   ],
   "source": [
    "info_cities[4]['confirmedCount']"
   ]
  },
  {
   "cell_type": "code",
   "execution_count": 53,
   "metadata": {
    "ExecuteTime": {
     "end_time": "2020-02-01T15:32:57.910871Z",
     "start_time": "2020-02-01T15:32:57.867988Z"
    }
   },
   "outputs": [
    {
     "ename": "ValueError",
     "evalue": "If using all scalar values, you must pass an index",
     "output_type": "error",
     "traceback": [
      "\u001b[1;31m---------------------------------------------------------------------------\u001b[0m",
      "\u001b[1;31mValueError\u001b[0m                                Traceback (most recent call last)",
      "\u001b[1;32m<ipython-input-53-6194729282a3>\u001b[0m in \u001b[0;36m<module>\u001b[1;34m()\u001b[0m\n\u001b[1;32m----> 1\u001b[1;33m \u001b[0mpd\u001b[0m\u001b[1;33m.\u001b[0m\u001b[0mDataFrame\u001b[0m\u001b[1;33m(\u001b[0m\u001b[0minfo_cities\u001b[0m\u001b[1;33m[\u001b[0m\u001b[1;36m4\u001b[0m\u001b[1;33m]\u001b[0m\u001b[1;33m)\u001b[0m\u001b[1;33m\u001b[0m\u001b[0m\n\u001b[0m",
      "\u001b[1;32m~\\Anaconda3\\lib\\site-packages\\pandas\\core\\frame.py\u001b[0m in \u001b[0;36m__init__\u001b[1;34m(self, data, index, columns, dtype, copy)\u001b[0m\n\u001b[0;32m    390\u001b[0m                                  dtype=dtype, copy=copy)\n\u001b[0;32m    391\u001b[0m         \u001b[1;32melif\u001b[0m \u001b[0misinstance\u001b[0m\u001b[1;33m(\u001b[0m\u001b[0mdata\u001b[0m\u001b[1;33m,\u001b[0m \u001b[0mdict\u001b[0m\u001b[1;33m)\u001b[0m\u001b[1;33m:\u001b[0m\u001b[1;33m\u001b[0m\u001b[0m\n\u001b[1;32m--> 392\u001b[1;33m             \u001b[0mmgr\u001b[0m \u001b[1;33m=\u001b[0m \u001b[0minit_dict\u001b[0m\u001b[1;33m(\u001b[0m\u001b[0mdata\u001b[0m\u001b[1;33m,\u001b[0m \u001b[0mindex\u001b[0m\u001b[1;33m,\u001b[0m \u001b[0mcolumns\u001b[0m\u001b[1;33m,\u001b[0m \u001b[0mdtype\u001b[0m\u001b[1;33m=\u001b[0m\u001b[0mdtype\u001b[0m\u001b[1;33m)\u001b[0m\u001b[1;33m\u001b[0m\u001b[0m\n\u001b[0m\u001b[0;32m    393\u001b[0m         \u001b[1;32melif\u001b[0m \u001b[0misinstance\u001b[0m\u001b[1;33m(\u001b[0m\u001b[0mdata\u001b[0m\u001b[1;33m,\u001b[0m \u001b[0mma\u001b[0m\u001b[1;33m.\u001b[0m\u001b[0mMaskedArray\u001b[0m\u001b[1;33m)\u001b[0m\u001b[1;33m:\u001b[0m\u001b[1;33m\u001b[0m\u001b[0m\n\u001b[0;32m    394\u001b[0m             \u001b[1;32mimport\u001b[0m \u001b[0mnumpy\u001b[0m\u001b[1;33m.\u001b[0m\u001b[0mma\u001b[0m\u001b[1;33m.\u001b[0m\u001b[0mmrecords\u001b[0m \u001b[1;32mas\u001b[0m \u001b[0mmrecords\u001b[0m\u001b[1;33m\u001b[0m\u001b[0m\n",
      "\u001b[1;32m~\\Anaconda3\\lib\\site-packages\\pandas\\core\\internals\\construction.py\u001b[0m in \u001b[0;36minit_dict\u001b[1;34m(data, index, columns, dtype)\u001b[0m\n\u001b[0;32m    210\u001b[0m         \u001b[0marrays\u001b[0m \u001b[1;33m=\u001b[0m \u001b[1;33m[\u001b[0m\u001b[0mdata\u001b[0m\u001b[1;33m[\u001b[0m\u001b[0mk\u001b[0m\u001b[1;33m]\u001b[0m \u001b[1;32mfor\u001b[0m \u001b[0mk\u001b[0m \u001b[1;32min\u001b[0m \u001b[0mkeys\u001b[0m\u001b[1;33m]\u001b[0m\u001b[1;33m\u001b[0m\u001b[0m\n\u001b[0;32m    211\u001b[0m \u001b[1;33m\u001b[0m\u001b[0m\n\u001b[1;32m--> 212\u001b[1;33m     \u001b[1;32mreturn\u001b[0m \u001b[0marrays_to_mgr\u001b[0m\u001b[1;33m(\u001b[0m\u001b[0marrays\u001b[0m\u001b[1;33m,\u001b[0m \u001b[0mdata_names\u001b[0m\u001b[1;33m,\u001b[0m \u001b[0mindex\u001b[0m\u001b[1;33m,\u001b[0m \u001b[0mcolumns\u001b[0m\u001b[1;33m,\u001b[0m \u001b[0mdtype\u001b[0m\u001b[1;33m=\u001b[0m\u001b[0mdtype\u001b[0m\u001b[1;33m)\u001b[0m\u001b[1;33m\u001b[0m\u001b[0m\n\u001b[0m\u001b[0;32m    213\u001b[0m \u001b[1;33m\u001b[0m\u001b[0m\n\u001b[0;32m    214\u001b[0m \u001b[1;33m\u001b[0m\u001b[0m\n",
      "\u001b[1;32m~\\Anaconda3\\lib\\site-packages\\pandas\\core\\internals\\construction.py\u001b[0m in \u001b[0;36marrays_to_mgr\u001b[1;34m(arrays, arr_names, index, columns, dtype)\u001b[0m\n\u001b[0;32m     49\u001b[0m     \u001b[1;31m# figure out the index, if necessary\u001b[0m\u001b[1;33m\u001b[0m\u001b[1;33m\u001b[0m\u001b[0m\n\u001b[0;32m     50\u001b[0m     \u001b[1;32mif\u001b[0m \u001b[0mindex\u001b[0m \u001b[1;32mis\u001b[0m \u001b[1;32mNone\u001b[0m\u001b[1;33m:\u001b[0m\u001b[1;33m\u001b[0m\u001b[0m\n\u001b[1;32m---> 51\u001b[1;33m         \u001b[0mindex\u001b[0m \u001b[1;33m=\u001b[0m \u001b[0mextract_index\u001b[0m\u001b[1;33m(\u001b[0m\u001b[0marrays\u001b[0m\u001b[1;33m)\u001b[0m\u001b[1;33m\u001b[0m\u001b[0m\n\u001b[0m\u001b[0;32m     52\u001b[0m     \u001b[1;32melse\u001b[0m\u001b[1;33m:\u001b[0m\u001b[1;33m\u001b[0m\u001b[0m\n\u001b[0;32m     53\u001b[0m         \u001b[0mindex\u001b[0m \u001b[1;33m=\u001b[0m \u001b[0mensure_index\u001b[0m\u001b[1;33m(\u001b[0m\u001b[0mindex\u001b[0m\u001b[1;33m)\u001b[0m\u001b[1;33m\u001b[0m\u001b[0m\n",
      "\u001b[1;32m~\\Anaconda3\\lib\\site-packages\\pandas\\core\\internals\\construction.py\u001b[0m in \u001b[0;36mextract_index\u001b[1;34m(data)\u001b[0m\n\u001b[0;32m    306\u001b[0m \u001b[1;33m\u001b[0m\u001b[0m\n\u001b[0;32m    307\u001b[0m         \u001b[1;32mif\u001b[0m \u001b[1;32mnot\u001b[0m \u001b[0mindexes\u001b[0m \u001b[1;32mand\u001b[0m \u001b[1;32mnot\u001b[0m \u001b[0mraw_lengths\u001b[0m\u001b[1;33m:\u001b[0m\u001b[1;33m\u001b[0m\u001b[0m\n\u001b[1;32m--> 308\u001b[1;33m             raise ValueError('If using all scalar values, you must pass'\n\u001b[0m\u001b[0;32m    309\u001b[0m                              ' an index')\n\u001b[0;32m    310\u001b[0m \u001b[1;33m\u001b[0m\u001b[0m\n",
      "\u001b[1;31mValueError\u001b[0m: If using all scalar values, you must pass an index"
     ]
    }
   ],
   "source": [
    "pd.DataFrame(info_cities[4])"
   ]
  },
  {
   "cell_type": "code",
   "execution_count": 56,
   "metadata": {
    "ExecuteTime": {
     "end_time": "2020-02-01T15:43:37.015952Z",
     "start_time": "2020-02-01T15:43:37.006977Z"
    }
   },
   "outputs": [
    {
     "data": {
      "text/plain": [
       "['cityName',\n",
       " 'confirmedCount',\n",
       " 'curedCount',\n",
       " 'deadCount',\n",
       " 'locationId',\n",
       " 'suspectedCount']"
      ]
     },
     "execution_count": 56,
     "metadata": {},
     "output_type": "execute_result"
    }
   ],
   "source": [
    "list(info_cities[4].keys())"
   ]
  },
  {
   "cell_type": "code",
   "execution_count": 57,
   "metadata": {
    "ExecuteTime": {
     "end_time": "2020-02-01T15:43:50.517848Z",
     "start_time": "2020-02-01T15:43:50.506875Z"
    }
   },
   "outputs": [
    {
     "data": {
      "text/plain": [
       "['随州', 304, 0, 1, 421300, 0]"
      ]
     },
     "execution_count": 57,
     "metadata": {},
     "output_type": "execute_result"
    }
   ],
   "source": [
    "list(info_cities[4].values())"
   ]
  },
  {
   "cell_type": "code",
   "execution_count": 62,
   "metadata": {
    "ExecuteTime": {
     "end_time": "2020-02-01T15:48:16.113175Z",
     "start_time": "2020-02-01T15:48:16.104198Z"
    }
   },
   "outputs": [],
   "source": [
    "DF=pd.DataFrame(list(info_cities[4].values())).T #,columns=list(info_cities[4].keys())\n",
    "DF.columns =list(info_cities[4].keys())"
   ]
  },
  {
   "cell_type": "code",
   "execution_count": 63,
   "metadata": {
    "ExecuteTime": {
     "end_time": "2020-02-01T15:48:19.146062Z",
     "start_time": "2020-02-01T15:48:19.130106Z"
    }
   },
   "outputs": [
    {
     "data": {
      "text/html": [
       "<div>\n",
       "<style scoped>\n",
       "    .dataframe tbody tr th:only-of-type {\n",
       "        vertical-align: middle;\n",
       "    }\n",
       "\n",
       "    .dataframe tbody tr th {\n",
       "        vertical-align: top;\n",
       "    }\n",
       "\n",
       "    .dataframe thead th {\n",
       "        text-align: right;\n",
       "    }\n",
       "</style>\n",
       "<table border=\"1\" class=\"dataframe\">\n",
       "  <thead>\n",
       "    <tr style=\"text-align: right;\">\n",
       "      <th></th>\n",
       "      <th>cityName</th>\n",
       "      <th>confirmedCount</th>\n",
       "      <th>curedCount</th>\n",
       "      <th>deadCount</th>\n",
       "      <th>locationId</th>\n",
       "      <th>suspectedCount</th>\n",
       "    </tr>\n",
       "  </thead>\n",
       "  <tbody>\n",
       "    <tr>\n",
       "      <th>0</th>\n",
       "      <td>随州</td>\n",
       "      <td>304</td>\n",
       "      <td>0</td>\n",
       "      <td>1</td>\n",
       "      <td>421300</td>\n",
       "      <td>0</td>\n",
       "    </tr>\n",
       "  </tbody>\n",
       "</table>\n",
       "</div>"
      ],
      "text/plain": [
       "  cityName confirmedCount curedCount deadCount locationId suspectedCount\n",
       "0       随州            304          0         1     421300              0"
      ]
     },
     "execution_count": 63,
     "metadata": {},
     "output_type": "execute_result"
    }
   ],
   "source": [
    "DF"
   ]
  },
  {
   "cell_type": "code",
   "execution_count": 65,
   "metadata": {
    "ExecuteTime": {
     "end_time": "2020-02-01T15:52:31.827748Z",
     "start_time": "2020-02-01T15:52:31.815781Z"
    }
   },
   "outputs": [
    {
     "name": "stdout",
     "output_type": "stream",
     "text": [
      "键: cityName\n",
      "值: 随州\n",
      "键: confirmedCount\n",
      "值: 304\n",
      "键: curedCount\n",
      "值: 0\n",
      "键: deadCount\n",
      "值: 1\n",
      "键: locationId\n",
      "值: 421300\n",
      "键: suspectedCount\n",
      "值: 0\n"
     ]
    }
   ],
   "source": [
    "for key,value in info_cities[4].items():\n",
    "    print(\"键:\" , key)\n",
    "    #print(\"--------\" )\n",
    "    print(\"值:\" , value)"
   ]
  },
  {
   "cell_type": "code",
   "execution_count": 91,
   "metadata": {
    "ExecuteTime": {
     "end_time": "2020-02-01T16:07:21.297180Z",
     "start_time": "2020-02-01T16:07:21.280258Z"
    }
   },
   "outputs": [],
   "source": [
    "df_empty =pd.DataFrame(columns=list(info_cities[4].keys()))#  空       T #,columns=list(info_cities[4].keys())\n",
    "#df.columns =list(info_cities[4].keys())"
   ]
  },
  {
   "cell_type": "code",
   "execution_count": 92,
   "metadata": {
    "ExecuteTime": {
     "end_time": "2020-02-01T16:07:21.755952Z",
     "start_time": "2020-02-01T16:07:21.739995Z"
    }
   },
   "outputs": [
    {
     "data": {
      "text/html": [
       "<div>\n",
       "<style scoped>\n",
       "    .dataframe tbody tr th:only-of-type {\n",
       "        vertical-align: middle;\n",
       "    }\n",
       "\n",
       "    .dataframe tbody tr th {\n",
       "        vertical-align: top;\n",
       "    }\n",
       "\n",
       "    .dataframe thead th {\n",
       "        text-align: right;\n",
       "    }\n",
       "</style>\n",
       "<table border=\"1\" class=\"dataframe\">\n",
       "  <thead>\n",
       "    <tr style=\"text-align: right;\">\n",
       "      <th></th>\n",
       "      <th>cityName</th>\n",
       "      <th>confirmedCount</th>\n",
       "      <th>curedCount</th>\n",
       "      <th>deadCount</th>\n",
       "      <th>locationId</th>\n",
       "      <th>suspectedCount</th>\n",
       "    </tr>\n",
       "  </thead>\n",
       "  <tbody>\n",
       "  </tbody>\n",
       "</table>\n",
       "</div>"
      ],
      "text/plain": [
       "Empty DataFrame\n",
       "Columns: [cityName, confirmedCount, curedCount, deadCount, locationId, suspectedCount]\n",
       "Index: []"
      ]
     },
     "execution_count": 92,
     "metadata": {},
     "output_type": "execute_result"
    }
   ],
   "source": [
    "df_empty"
   ]
  },
  {
   "cell_type": "code",
   "execution_count": 93,
   "metadata": {
    "ExecuteTime": {
     "end_time": "2020-02-01T16:07:22.348368Z",
     "start_time": "2020-02-01T16:07:22.314459Z"
    }
   },
   "outputs": [],
   "source": [
    "for each_city in info_cities:\n",
    "    DF=pd.DataFrame(list(each_city.values())).T #,columns=list(info_cities[4].keys())\n",
    "    DF.columns =list(each_city.keys())\n",
    "    df_empty = df_empty.append(DF,ignore_index=True)\n",
    "    \n",
    "    "
   ]
  },
  {
   "cell_type": "code",
   "execution_count": 94,
   "metadata": {
    "ExecuteTime": {
     "end_time": "2020-02-01T16:07:23.395568Z",
     "start_time": "2020-02-01T16:07:23.369671Z"
    }
   },
   "outputs": [
    {
     "data": {
      "text/html": [
       "<div>\n",
       "<style scoped>\n",
       "    .dataframe tbody tr th:only-of-type {\n",
       "        vertical-align: middle;\n",
       "    }\n",
       "\n",
       "    .dataframe tbody tr th {\n",
       "        vertical-align: top;\n",
       "    }\n",
       "\n",
       "    .dataframe thead th {\n",
       "        text-align: right;\n",
       "    }\n",
       "</style>\n",
       "<table border=\"1\" class=\"dataframe\">\n",
       "  <thead>\n",
       "    <tr style=\"text-align: right;\">\n",
       "      <th></th>\n",
       "      <th>cityName</th>\n",
       "      <th>confirmedCount</th>\n",
       "      <th>curedCount</th>\n",
       "      <th>deadCount</th>\n",
       "      <th>locationId</th>\n",
       "      <th>suspectedCount</th>\n",
       "    </tr>\n",
       "  </thead>\n",
       "  <tbody>\n",
       "    <tr>\n",
       "      <th>0</th>\n",
       "      <td>武汉</td>\n",
       "      <td>3215</td>\n",
       "      <td>106</td>\n",
       "      <td>192</td>\n",
       "      <td>420100</td>\n",
       "      <td>0</td>\n",
       "    </tr>\n",
       "    <tr>\n",
       "      <th>1</th>\n",
       "      <td>黄冈</td>\n",
       "      <td>726</td>\n",
       "      <td>17</td>\n",
       "      <td>14</td>\n",
       "      <td>421100</td>\n",
       "      <td>0</td>\n",
       "    </tr>\n",
       "    <tr>\n",
       "      <th>2</th>\n",
       "      <td>孝感</td>\n",
       "      <td>628</td>\n",
       "      <td>2</td>\n",
       "      <td>12</td>\n",
       "      <td>420900</td>\n",
       "      <td>0</td>\n",
       "    </tr>\n",
       "    <tr>\n",
       "      <th>3</th>\n",
       "      <td>襄阳</td>\n",
       "      <td>347</td>\n",
       "      <td>0</td>\n",
       "      <td>0</td>\n",
       "      <td>420600</td>\n",
       "      <td>0</td>\n",
       "    </tr>\n",
       "    <tr>\n",
       "      <th>4</th>\n",
       "      <td>随州</td>\n",
       "      <td>304</td>\n",
       "      <td>0</td>\n",
       "      <td>1</td>\n",
       "      <td>421300</td>\n",
       "      <td>0</td>\n",
       "    </tr>\n",
       "    <tr>\n",
       "      <th>5</th>\n",
       "      <td>荆州</td>\n",
       "      <td>287</td>\n",
       "      <td>2</td>\n",
       "      <td>4</td>\n",
       "      <td>421000</td>\n",
       "      <td>0</td>\n",
       "    </tr>\n",
       "    <tr>\n",
       "      <th>6</th>\n",
       "      <td>宜昌</td>\n",
       "      <td>276</td>\n",
       "      <td>0</td>\n",
       "      <td>1</td>\n",
       "      <td>420500</td>\n",
       "      <td>0</td>\n",
       "    </tr>\n",
       "    <tr>\n",
       "      <th>7</th>\n",
       "      <td>荆门</td>\n",
       "      <td>251</td>\n",
       "      <td>1</td>\n",
       "      <td>5</td>\n",
       "      <td>420800</td>\n",
       "      <td>0</td>\n",
       "    </tr>\n",
       "    <tr>\n",
       "      <th>8</th>\n",
       "      <td>鄂州</td>\n",
       "      <td>227</td>\n",
       "      <td>0</td>\n",
       "      <td>9</td>\n",
       "      <td>420700</td>\n",
       "      <td>0</td>\n",
       "    </tr>\n",
       "    <tr>\n",
       "      <th>9</th>\n",
       "      <td>黄石</td>\n",
       "      <td>209</td>\n",
       "      <td>1</td>\n",
       "      <td>2</td>\n",
       "      <td>420200</td>\n",
       "      <td>0</td>\n",
       "    </tr>\n",
       "    <tr>\n",
       "      <th>10</th>\n",
       "      <td>咸宁</td>\n",
       "      <td>206</td>\n",
       "      <td>1</td>\n",
       "      <td>0</td>\n",
       "      <td>421200</td>\n",
       "      <td>0</td>\n",
       "    </tr>\n",
       "    <tr>\n",
       "      <th>11</th>\n",
       "      <td>十堰</td>\n",
       "      <td>177</td>\n",
       "      <td>0</td>\n",
       "      <td>0</td>\n",
       "      <td>420300</td>\n",
       "      <td>0</td>\n",
       "    </tr>\n",
       "    <tr>\n",
       "      <th>12</th>\n",
       "      <td>仙桃</td>\n",
       "      <td>97</td>\n",
       "      <td>0</td>\n",
       "      <td>1</td>\n",
       "      <td>429004</td>\n",
       "      <td>0</td>\n",
       "    </tr>\n",
       "    <tr>\n",
       "      <th>13</th>\n",
       "      <td>恩施州</td>\n",
       "      <td>87</td>\n",
       "      <td>1</td>\n",
       "      <td>0</td>\n",
       "      <td>422800</td>\n",
       "      <td>0</td>\n",
       "    </tr>\n",
       "    <tr>\n",
       "      <th>14</th>\n",
       "      <td>天门</td>\n",
       "      <td>82</td>\n",
       "      <td>0</td>\n",
       "      <td>7</td>\n",
       "      <td>429006</td>\n",
       "      <td>0</td>\n",
       "    </tr>\n",
       "    <tr>\n",
       "      <th>15</th>\n",
       "      <td>潜江</td>\n",
       "      <td>27</td>\n",
       "      <td>0</td>\n",
       "      <td>1</td>\n",
       "      <td>429005</td>\n",
       "      <td>0</td>\n",
       "    </tr>\n",
       "    <tr>\n",
       "      <th>16</th>\n",
       "      <td>神农架林区</td>\n",
       "      <td>7</td>\n",
       "      <td>2</td>\n",
       "      <td>0</td>\n",
       "      <td>429021</td>\n",
       "      <td>0</td>\n",
       "    </tr>\n",
       "  </tbody>\n",
       "</table>\n",
       "</div>"
      ],
      "text/plain": [
       "   cityName confirmedCount curedCount deadCount locationId suspectedCount\n",
       "0        武汉           3215        106       192     420100              0\n",
       "1        黄冈            726         17        14     421100              0\n",
       "2        孝感            628          2        12     420900              0\n",
       "3        襄阳            347          0         0     420600              0\n",
       "4        随州            304          0         1     421300              0\n",
       "5        荆州            287          2         4     421000              0\n",
       "6        宜昌            276          0         1     420500              0\n",
       "7        荆门            251          1         5     420800              0\n",
       "8        鄂州            227          0         9     420700              0\n",
       "9        黄石            209          1         2     420200              0\n",
       "10       咸宁            206          1         0     421200              0\n",
       "11       十堰            177          0         0     420300              0\n",
       "12       仙桃             97          0         1     429004              0\n",
       "13      恩施州             87          1         0     422800              0\n",
       "14       天门             82          0         7     429006              0\n",
       "15       潜江             27          0         1     429005              0\n",
       "16    神农架林区              7          2         0     429021              0"
      ]
     },
     "execution_count": 94,
     "metadata": {},
     "output_type": "execute_result"
    }
   ],
   "source": [
    "df_empty.drop_duplicates()"
   ]
  },
  {
   "cell_type": "code",
   "execution_count": 95,
   "metadata": {
    "ExecuteTime": {
     "end_time": "2020-02-01T16:23:44.022204Z",
     "start_time": "2020-02-01T16:23:43.625266Z"
    }
   },
   "outputs": [
    {
     "name": "stdout",
     "output_type": "stream",
     "text": [
      "<class 'dict'>\n",
      "{'country': '中国', 'provinceName': '湖北省', 'provinceShortName': '湖北', 'confirmedCount': 7153, 'suspectedCount': 0, 'curedCount': 168, 'deadCount': 249, 'cities': [{'cityName': '武汉', 'confirmedCount': 3215, 'curedCount': 106, 'deadCount': 192, 'locationId': 420100, 'suspectedCount': 0}, {'cityName': '黄冈', 'confirmedCount': 726, 'curedCount': 17, 'deadCount': 14, 'locationId': 421100, 'suspectedCount': 0}, {'cityName': '孝感', 'confirmedCount': 628, 'curedCount': 2, 'deadCount': 12, 'locationId': 420900, 'suspectedCount': 0}, {'cityName': '襄阳', 'confirmedCount': 347, 'curedCount': 0, 'deadCount': 0, 'locationId': 420600, 'suspectedCount': 0}, {'cityName': '随州', 'confirmedCount': 304, 'curedCount': 0, 'deadCount': 1, 'locationId': 421300, 'suspectedCount': 0}, {'cityName': '荆州', 'confirmedCount': 287, 'curedCount': 2, 'deadCount': 4, 'locationId': 421000, 'suspectedCount': 0}, {'cityName': '宜昌', 'confirmedCount': 276, 'curedCount': 0, 'deadCount': 1, 'locationId': 420500, 'suspectedCount': 0}, {'cityName': '荆门', 'confirmedCount': 251, 'curedCount': 1, 'deadCount': 5, 'locationId': 420800, 'suspectedCount': 0}, {'cityName': '鄂州', 'confirmedCount': 227, 'curedCount': 0, 'deadCount': 9, 'locationId': 420700, 'suspectedCount': 0}, {'cityName': '黄石', 'confirmedCount': 209, 'curedCount': 1, 'deadCount': 2, 'locationId': 420200, 'suspectedCount': 0}, {'cityName': '咸宁', 'confirmedCount': 206, 'curedCount': 1, 'deadCount': 0, 'locationId': 421200, 'suspectedCount': 0}, {'cityName': '十堰', 'confirmedCount': 177, 'curedCount': 0, 'deadCount': 0, 'locationId': 420300, 'suspectedCount': 0}, {'cityName': '仙桃', 'confirmedCount': 97, 'curedCount': 0, 'deadCount': 1, 'locationId': 429004, 'suspectedCount': 0}, {'cityName': '恩施州', 'confirmedCount': 87, 'curedCount': 1, 'deadCount': 0, 'locationId': 422800, 'suspectedCount': 0}, {'cityName': '天门', 'confirmedCount': 82, 'curedCount': 0, 'deadCount': 7, 'locationId': 429006, 'suspectedCount': 0}, {'cityName': '潜江', 'confirmedCount': 27, 'curedCount': 0, 'deadCount': 1, 'locationId': 429005, 'suspectedCount': 0}, {'cityName': '神农架林区', 'confirmedCount': 7, 'curedCount': 2, 'deadCount': 0, 'locationId': 429021, 'suspectedCount': 0}], 'comment': '待明确地区：治愈35', 'updateTime': 1580557802226, 'createTime': 0, 'modifyTime': 0}\n",
      "<class 'list'>\n",
      "17\n",
      "   cityName confirmedCount curedCount deadCount locationId suspectedCount\n",
      "0        武汉           3215        106       192     420100              0\n",
      "1        黄冈            726         17        14     421100              0\n",
      "2        孝感            628          2        12     420900              0\n",
      "3        襄阳            347          0         0     420600              0\n",
      "4        随州            304          0         1     421300              0\n",
      "5        荆州            287          2         4     421000              0\n",
      "6        宜昌            276          0         1     420500              0\n",
      "7        荆门            251          1         5     420800              0\n",
      "8        鄂州            227          0         9     420700              0\n",
      "9        黄石            209          1         2     420200              0\n",
      "10       咸宁            206          1         0     421200              0\n",
      "11       十堰            177          0         0     420300              0\n",
      "12       仙桃             97          0         1     429004              0\n",
      "13      恩施州             87          1         0     422800              0\n",
      "14       天门             82          0         7     429006              0\n",
      "15       潜江             27          0         1     429005              0\n",
      "16    神农架林区              7          2         0     429021              0\n"
     ]
    }
   ],
   "source": [
    "import json\n",
    "import time\n",
    "import requests\n",
    "import os\n",
    "import pandas as pd\n",
    "baseUrl = \"https://lab.ahusmart.com/nCoV/api/\"\n",
    "url = baseUrl + 'area?latest=1&province=' + '湖北省'\n",
    "res = json.loads(requests.get(url).text)\n",
    "print(type(res))\n",
    "dd = res['results'][0]\n",
    "print(res['results'][0])\n",
    "\n",
    "info_cities = dd['cities']\n",
    "print(type(info_cities))\n",
    "print(len(info_cities))\n",
    "\n",
    "\n",
    "#DF=pd.DataFrame(list(info_cities[4].values())).T #,columns=list(info_cities[4].keys())\n",
    "#DF.columns =list(info_cities[4].keys())\n",
    "df_empty =pd.DataFrame(columns=list(info_cities[4].keys()))#  空\n",
    "for each_city in info_cities:\n",
    "    DF = pd.DataFrame(list(each_city.values())).T  # ,columns=list(info_cities[4].keys())\n",
    "    DF.columns = list(each_city.keys())\n",
    "    df_empty = df_empty.append(DF, ignore_index=True)\n",
    "df_final = df_empty.drop_duplicates()\n",
    "\n",
    "print(df_final)\n",
    "\n"
   ]
  },
  {
   "cell_type": "code",
   "execution_count": null,
   "metadata": {},
   "outputs": [],
   "source": []
  }
 ],
 "metadata": {
  "kernelspec": {
   "display_name": "Python 3",
   "language": "python",
   "name": "python3"
  },
  "language_info": {
   "codemirror_mode": {
    "name": "ipython",
    "version": 3
   },
   "file_extension": ".py",
   "mimetype": "text/x-python",
   "name": "python",
   "nbconvert_exporter": "python",
   "pygments_lexer": "ipython3",
   "version": "3.6.4"
  },
  "varInspector": {
   "cols": {
    "lenName": 16,
    "lenType": 16,
    "lenVar": 40
   },
   "kernels_config": {
    "python": {
     "delete_cmd_postfix": "",
     "delete_cmd_prefix": "del ",
     "library": "var_list.py",
     "varRefreshCmd": "print(var_dic_list())"
    },
    "r": {
     "delete_cmd_postfix": ") ",
     "delete_cmd_prefix": "rm(",
     "library": "var_list.r",
     "varRefreshCmd": "cat(var_dic_list()) "
    }
   },
   "types_to_exclude": [
    "module",
    "function",
    "builtin_function_or_method",
    "instance",
    "_Feature"
   ],
   "window_display": false
  }
 },
 "nbformat": 4,
 "nbformat_minor": 2
}
